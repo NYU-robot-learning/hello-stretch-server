{
 "cells": [
  {
   "cell_type": "code",
   "execution_count": 7,
   "metadata": {},
   "outputs": [
    {
     "name": "stdout",
     "output_type": "stream",
     "text": [
      "ROBOT_IP: 192.168.86.216, VERSION: v1.10.0, PROTOCOL: V1, DETAIL: 7,7,XS1303,AC1300,v1.10.0, TYPE1300: [1, 1]\n",
      "change protocol identifier to 3\n"
     ]
    },
    {
     "data": {
      "text/plain": [
       "0"
      ]
     },
     "execution_count": 7,
     "metadata": {},
     "output_type": "execute_result"
    },
    {
     "name": "stdout",
     "output_type": "stream",
     "text": [
      "ControllerError, code: 23\n",
      "ControllerError had clean\n"
     ]
    }
   ],
   "source": [
    "from xarm.wrapper import XArmAPI\n",
    "import numpy as np\n",
    "from scipy.spatial.transform import Rotation as R\n",
    "\n",
    "arm = XArmAPI('192.168.86.216')\n",
    "arm.connect()\n",
    "arm.motion_enable(enable=True)\n",
    "arm.set_mode(0)\n",
    "arm.set_state(0)"
   ]
  },
  {
   "cell_type": "code",
   "execution_count": 9,
   "metadata": {},
   "outputs": [
    {
     "name": "stdout",
     "output_type": "stream",
     "text": [
      "[215.990036, 50.805801, 480.877808, -25.347137, -88.273659, -156.329758]\n"
     ]
    }
   ],
   "source": [
    "code, position = arm.get_position()\n",
    "print(position)"
   ]
  },
  {
   "cell_type": "code",
   "execution_count": 11,
   "metadata": {},
   "outputs": [
    {
     "name": "stdout",
     "output_type": "stream",
     "text": [
      "[218.636948, 51.966072, 384.987274, -25.347137, -88.273717, -156.329758]\n"
     ]
    }
   ],
   "source": [
    "code, position = arm.get_position()\n",
    "print(position)"
   ]
  },
  {
   "cell_type": "code",
   "execution_count": 8,
   "metadata": {},
   "outputs": [],
   "source": [
    "def create_transform(vec):\n",
    "    x,y,z,rx,ry,rz = vec\n",
    "    transform = np.eye(4)\n",
    "    transform[:3,:3] = R.from_euler('xyz', [rx,ry,rz], degrees=True).as_matrix()\n",
    "    transform[:3,3] = [x,y,z]\n",
    "    return transform"
   ]
  },
  {
   "cell_type": "code",
   "execution_count": 9,
   "metadata": {},
   "outputs": [],
   "source": [
    "def transform_to_vec(transform):\n",
    "    x,y,z = transform[:3,3]\n",
    "    rx,ry,rz = R.from_matrix(transform[:3,:3]).as_euler('xyz', degrees=True)\n",
    "    return [x,y,z,rx,ry,rz]"
   ]
  },
  {
   "cell_type": "code",
   "execution_count": 14,
   "metadata": {},
   "outputs": [],
   "source": [
    "wrist_to_iphone = create_transform([125,0,95,0,-15,0])\n",
    "\n",
    "for i in range(1):\n",
    "    \n",
    "    code, current_pos = arm.get_position(is_radian=False)\n",
    "    base_to_end_effector = create_transform(current_pos)\n",
    "    \n",
    "    action = [0,0,0,0,0,0]\n",
    "    iphone_to_action = create_transform(action)\n",
    "    \n",
    "    full_transform = base_to_end_effector @ wrist_to_iphone @ iphone_to_action @ np.linalg.inv(wrist_to_iphone)\n",
    "    \n",
    "    new_pos = transform_to_vec(full_transform)\n",
    "    \n",
    "    arm.set_position(*new_pos, speed=100, mvacc=1000, wait=True)\n",
    "\n"
   ]
  },
  {
   "cell_type": "code",
   "execution_count": 8,
   "metadata": {},
   "outputs": [],
   "source": [
    "arm.disconnect()"
   ]
  },
  {
   "cell_type": "code",
   "execution_count": null,
   "metadata": {},
   "outputs": [],
   "source": []
  }
 ],
 "metadata": {
  "kernelspec": {
   "display_name": "home_robot",
   "language": "python",
   "name": "python3"
  },
  "language_info": {
   "codemirror_mode": {
    "name": "ipython",
    "version": 3
   },
   "file_extension": ".py",
   "mimetype": "text/x-python",
   "name": "python",
   "nbconvert_exporter": "python",
   "pygments_lexer": "ipython3",
   "version": "3.9.18"
  },
  "orig_nbformat": 4
 },
 "nbformat": 4,
 "nbformat_minor": 2
}
