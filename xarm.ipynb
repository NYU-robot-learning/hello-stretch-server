{
 "cells": [
  {
   "cell_type": "code",
   "execution_count": 25,
   "metadata": {},
   "outputs": [
    {
     "name": "stdout",
     "output_type": "stream",
     "text": [
      "SDK_VERSION: 1.13.30\n"
     ]
    }
   ],
   "source": [
    "from xarm.wrapper import XArmAPI\n",
    "import time\n"
   ]
  },
  {
   "cell_type": "code",
   "execution_count": 26,
   "metadata": {},
   "outputs": [
    {
     "name": "stdout",
     "output_type": "stream",
     "text": [
      "ROBOT_IP: 192.168.86.216, VERSION: v1.10.0, PROTOCOL: V1, DETAIL: 7,7,XS1303,AC1300,v1.10.0, TYPE1300: [1, 1]\n",
      "change protocol identifier to 3\n"
     ]
    },
    {
     "name": "stdout",
     "output_type": "stream",
     "text": [
      "ControllerError, code: 1\n",
      "ControllerError had clean\n",
      "ControllerError, code: 23\n",
      "ControllerError had clean\n",
      "ControllerError, code: 23\n",
      "ControllerError had clean\n",
      "ControllerError, code: 23\n",
      "ControllerError had clean\n",
      "ControllerError, code: 23\n",
      "ControllerError had clean\n",
      "ControllerError, code: 23\n",
      "ControllerError had clean\n",
      "ControllerError, code: 23\n",
      "ControllerError had clean\n"
     ]
    }
   ],
   "source": [
    "# Replace '192.168.1.1' with the actual IP address of your xArm7\n",
    "arm = XArmAPI('192.168.86.216')"
   ]
  },
  {
   "cell_type": "code",
   "execution_count": 27,
   "metadata": {},
   "outputs": [],
   "source": [
    "# Connect to the xArm\n",
    "arm.connect()"
   ]
  },
  {
   "cell_type": "code",
   "execution_count": 28,
   "metadata": {},
   "outputs": [
    {
     "data": {
      "text/plain": [
       "0"
      ]
     },
     "execution_count": 28,
     "metadata": {},
     "output_type": "execute_result"
    }
   ],
   "source": [
    "# Ensure the arm is powered on and in position control mode\n",
    "arm.motion_enable(enable=True)\n",
    "arm.set_mode(0)\n",
    "arm.set_state(0)"
   ]
  },
  {
   "cell_type": "code",
   "execution_count": 40,
   "metadata": {},
   "outputs": [
    {
     "name": "stdout",
     "output_type": "stream",
     "text": [
      "Current position: [205.999969, -0.0, 253.954681, -173.981327, -12.013836, -23.946542]\n"
     ]
    }
   ],
   "source": [
    "code, current_pos = arm.get_position(is_radian=False)\n",
    "print(f\"Current position: {current_pos}\")"
   ]
  },
  {
   "cell_type": "code",
   "execution_count": 33,
   "metadata": {},
   "outputs": [
    {
     "data": {
      "text/plain": [
       "0"
      ]
     },
     "execution_count": 33,
     "metadata": {},
     "output_type": "execute_result"
    }
   ],
   "source": [
    "new_pos = [305.518585, 9.993493, 541.88092, 0, -87.419379, -136.354903]\n",
    "\n",
    "arm.set_position(*new_pos, speed=100, mvacc=1000, wait=True)"
   ]
  },
  {
   "cell_type": "code",
   "execution_count": 70,
   "metadata": {},
   "outputs": [
    {
     "name": "stdout",
     "output_type": "stream",
     "text": [
      "Current position: [267.570374, 8.021536, 434.706421, -176.334179, -70.336356, -3.771724]\n",
      "Current position: [267.570374, 8.021536, 434.706421, -73.412166, -88.677366, -106.470226]\n"
     ]
    }
   ],
   "source": [
    "code, current_pos = arm.get_position(is_radian=False)\n",
    "print(f\"Current position: {current_pos}\")\n",
    "\n",
    "new_pos = [0 for _ in range(6)]\n",
    "new_pos[4] = -20\n",
    "if code == 0:\n",
    "    arm.set_position(*new_pos, speed=100, mvacc=1000, wait=True, relative=True)\n",
    "    \n",
    "code, current_pos = arm.get_position(is_radian=False)\n",
    "print(f\"Current position: {current_pos}\")\n",
    "    "
   ]
  },
  {
   "cell_type": "code",
   "execution_count": 24,
   "metadata": {},
   "outputs": [
    {
     "ename": "NameError",
     "evalue": "name 'arm' is not defined",
     "output_type": "error",
     "traceback": [
      "\u001b[0;31m---------------------------------------------------------------------------\u001b[0m",
      "\u001b[0;31mNameError\u001b[0m                                 Traceback (most recent call last)",
      "\u001b[1;32m/home/haritheja/hello-stretch-server/xarm.ipynb Cell 8\u001b[0m line \u001b[0;36m1\n\u001b[0;32m----> <a href='vscode-notebook-cell://ssh-remote%2Blambda2/home/haritheja/hello-stretch-server/xarm.ipynb#X10sdnNjb2RlLXJlbW90ZQ%3D%3D?line=0'>1</a>\u001b[0m code, current_pos \u001b[39m=\u001b[39m arm\u001b[39m.\u001b[39mget_position(is_radian\u001b[39m=\u001b[39m\u001b[39mFalse\u001b[39;00m)\n\u001b[1;32m      <a href='vscode-notebook-cell://ssh-remote%2Blambda2/home/haritheja/hello-stretch-server/xarm.ipynb#X10sdnNjb2RlLXJlbW90ZQ%3D%3D?line=1'>2</a>\u001b[0m \u001b[39mprint\u001b[39m(current_pos)\n",
      "\u001b[0;31mNameError\u001b[0m: name 'arm' is not defined"
     ]
    }
   ],
   "source": [
    "code, current_pos = arm.get_position(is_radian=False)\n",
    "print(current_pos)"
   ]
  },
  {
   "cell_type": "code",
   "execution_count": 63,
   "metadata": {},
   "outputs": [
    {
     "name": "stdout",
     "output_type": "stream",
     "text": [
      "Current position: [339.618286, 13.401848, 539.494507, -5.028278, -74.001109, -174.191603]\n",
      "Initial position: [310.77179, 13.401848, 568.609253, -59.480124, -88.155229, -119.950433]\n"
     ]
    }
   ],
   "source": [
    "code, current_pos = arm.get_position(is_radian=False)\n",
    "print(f\"Current position: {current_pos}\")\n",
    "print(f\"Initial position: {initial_pos}\")"
   ]
  },
  {
   "cell_type": "code",
   "execution_count": 100,
   "metadata": {},
   "outputs": [
    {
     "data": {
      "text/plain": [
       "[28.847080998605932, 0.0, -29.115334135276584, 0.0, -14.999999999999996, 0.0]"
      ]
     },
     "execution_count": 100,
     "metadata": {},
     "output_type": "execute_result"
    },
    {
     "name": "stdout",
     "output_type": "stream",
     "text": [
      "[SDK][ERROR][2024-06-12 23:48:30][base.py:168] - - [report-socket] socket read timeout\n"
     ]
    }
   ],
   "source": [
    "prev_pos"
   ]
  },
  {
   "cell_type": "code",
   "execution_count": 1,
   "metadata": {},
   "outputs": [
    {
     "name": "stdout",
     "output_type": "stream",
     "text": [
      "[[ 0.96592583  0.          0.25881905]\n",
      " [ 0.          1.          0.        ]\n",
      " [-0.25881905  0.          0.96592583]]\n",
      "[[  0.96592583   0.           0.25881905 125.        ]\n",
      " [  0.           1.           0.           0.        ]\n",
      " [ -0.25881905   0.           0.96592583  95.        ]\n",
      " [  0.           0.           0.           1.        ]]\n"
     ]
    }
   ],
   "source": [
    "from scipy.spatial.transform import Rotation as R\n",
    "import numpy as np\n",
    "r = R.from_euler('xyz', [0,15,0], degrees=True).as_matrix()\n",
    "\n",
    "print(r)\n",
    "theta = np.pi / 12\n",
    "\n",
    "transformation_matrix1 = np.array([\n",
    "    [ np.cos(theta), 0, np.sin(theta), 125],\n",
    "    [            0, 1,            0, 0],\n",
    "    [-np.sin(theta), 0, np.cos(theta), 95],\n",
    "    [            0, 0,            0, 1]\n",
    "])\n",
    "print(transformation_matrix1)"
   ]
  },
  {
   "cell_type": "code",
   "execution_count": 87,
   "metadata": {},
   "outputs": [
    {
     "name": "stdout",
     "output_type": "stream",
     "text": [
      "[[  0.96592583   0.          -0.25881905 125.        ]\n",
      " [  0.           1.           0.           0.        ]\n",
      " [  0.25881905   0.           0.96592583  95.        ]\n",
      " [  0.           0.           0.           1.        ]]\n"
     ]
    }
   ],
   "source": [
    "prev_pos = np.zeros(6)\n",
    "\n",
    "theta = -1 * np.pi / 12\n",
    "# theta = 0\n",
    "\n",
    "transformation_matrix1 = np.array([\n",
    "    [ np.cos(theta), 0, np.sin(theta), 125],\n",
    "    [            0, 1,            0, 0],\n",
    "    [-np.sin(theta), 0, np.cos(theta), 95],\n",
    "    [            0, 0,            0, 1]\n",
    "])\n",
    "print(transformation_matrix1)"
   ]
  },
  {
   "cell_type": "code",
   "execution_count": 56,
   "metadata": {},
   "outputs": [
    {
     "name": "stdout",
     "output_type": "stream",
     "text": [
      "[[   0.96592583    0.           -0.25881905 -125.        ]\n",
      " [   0.            1.            0.            0.        ]\n",
      " [   0.25881905    0.            0.96592583  -95.        ]\n",
      " [   0.            0.            0.            1.        ]]\n"
     ]
    }
   ],
   "source": [
    "theta = -1 * np.pi / 12\n",
    "\n",
    "transformation_matrix3 = np.array([\n",
    "    [ np.cos(theta), 0, np.sin(theta), -125],\n",
    "    [            0, 1,            0, 0],\n",
    "    [-np.sin(theta), 0, np.cos(theta), -95],\n",
    "    [            0, 0,            0, 1]\n",
    "])\n",
    "print(transformation_matrix3)"
   ]
  },
  {
   "cell_type": "code",
   "execution_count": 87,
   "metadata": {},
   "outputs": [],
   "source": [
    "x,y,z,rx,ry,rz = arm.get_position(is_radian=False)[1]\n",
    "transform_base = np.eye(4)\n",
    "transform_base[:3,:3] = R.from_euler('xyz', [rx,ry,rz], degrees=False).as_matrix()\n",
    "transform_base[:3,3] = [x,y,z]"
   ]
  },
  {
   "cell_type": "code",
   "execution_count": 110,
   "metadata": {},
   "outputs": [],
   "source": [
    "def create_transform(vec):\n",
    "    x,y,z,rx,ry,rz = vec\n",
    "    transform = np.eye(4)\n",
    "    transform[:3,:3] = R.from_euler('xyz', [rx,ry,rz], degrees=True).as_matrix()\n",
    "    transform[:3,3] = [x,y,z]\n",
    "    return transform"
   ]
  },
  {
   "cell_type": "code",
   "execution_count": 119,
   "metadata": {},
   "outputs": [],
   "source": [
    "def transform_to_vec(transform):\n",
    "    x,y,z = transform[:3,3]\n",
    "    rx,ry,rz = R.from_matrix(transform[:3,:3]).as_euler('xyz', degrees=True)\n",
    "    return [x,y,z,rx,ry,rz]"
   ]
  },
  {
   "cell_type": "code",
   "execution_count": 123,
   "metadata": {},
   "outputs": [],
   "source": [
    "import numpy as np\n",
    "from scipy.spatial.transform import Rotation as R\n",
    "\n",
    "# iPhone is 125cm in front of the wrist, 95cm above the wrist, and tilted 15 degrees ccw about the y-axis\n",
    "wrist_to_iphone = create_transform([125,0,95,0,-15,0])\n",
    "\n",
    "for i in range(1):\n",
    "    \n",
    "    code, current_pos = arm.get_position(is_radian=False)\n",
    "    base_to_end_effector = create_transform(current_pos)\n",
    "    \n",
    "    action = [0,0,0,0,-10,0]\n",
    "    iphone_to_action = create_transform(action)\n",
    "    \n",
    "    full_transform = base_to_end_effector @ wrist_to_iphone @ iphone_to_action @ np.linalg.inv(wrist_to_iphone)\n",
    "    \n",
    "    new_pos = transform_to_vec(full_transform)\n",
    "    \n",
    "    arm.set_position(*new_pos, speed=100, mvacc=1000, wait=True)\n",
    "\n"
   ]
  },
  {
   "cell_type": "code",
   "execution_count": 102,
   "metadata": {},
   "outputs": [
    {
     "name": "stdout",
     "output_type": "stream",
     "text": [
      "Current position: [305.518585, 9.993493, 541.88092, -43.414158, -87.419379, -136.354903]\n",
      "new absolute pos: [329.13095159543514, 10.52866022128222, 528.055309116347, -8.555834656801142, -77.99504020534845, -171.36864272544483]\n",
      "prev pos: [329.13095159543514, 10.52866022128222, 528.055309116347, -8.555834656801142, -77.99504020534845, -171.36864272544483]\n",
      "new relative pos: [329.13095159543514, 10.52866022128222, 528.055309116347, -8.555834656801142, -77.99504020534845, -171.36864272544483]\n",
      "Current position: [329.130951, 10.52866, 528.055298, -8.555807, -77.995026, -171.36864]\n",
      "new absolute pos: [354.7870883524995, 10.9397180785677, 518.5383959881126, -4.749927779000746, -68.05657167966598, -175.33278885000254]\n",
      "prev pos: [329.13095159543514, 10.52866022128222, 528.055309116347, -8.555834656801142, -77.99504020534845, -171.36864272544483]\n",
      "new relative pos: [354.7870883524995, 10.9397180785677, 518.5383959881126, -4.749927779000746, -68.05657167966598, -175.33278885000254]\n"
     ]
    }
   ],
   "source": [
    "import numpy as np\n",
    "from scipy.spatial.transform import Rotation as R\n",
    "\n",
    "# prev_pos = np.zeros(6)\n",
    "\n",
    "for i in range(1):\n",
    "    # x,y,z,rx,ry,rz = prev_pos\n",
    "    \n",
    "    code, current_pos = arm.get_position(is_radian=False)\n",
    "    x,y,z,rx,ry,rz = current_pos\n",
    "    transform_base = np.eye(4)\n",
    "    transform_base[:3,:3] = R.from_euler('xyz', [rx,ry,rz], degrees=True).as_matrix()\n",
    "    transform_base[:3,3] = [x,y,z]\n",
    "\n",
    "    # r = R.from_euler('xyz', [rx,ry,rz], degrees=True).as_matrix()\n",
    "    # transformation0 = np.eye(4)\n",
    "    # transformation0[:3,:3] = r\n",
    "    # transformation0[:3,3] = [x,y,z]\n",
    "\n",
    "    transformation_matrix2 = np.eye(4)\n",
    "    transformation_matrix2[:3, :3] = R.from_euler('xyz', [0,10,0], degrees=True).as_matrix()\n",
    "    # transformation_matrix2[2, 3] = 200\n",
    "    \n",
    "    full_transform = transform_base @ transformation_matrix1 @ transformation_matrix2 @ np.linalg.inv(transformation_matrix1)\n",
    "    \n",
    "    r = R.from_matrix(full_transform[:3,:3]).as_euler('xyz', degrees=True)\n",
    "    x,y,z = full_transform[:3,3]\n",
    "    \n",
    "    new_pos = [x,y,z] + list(r)\n",
    "    print(\"new absolute pos:\", new_pos)\n",
    "    # new_pos = list(np.array(new_pos) - np.array(prev_pos))\n",
    "    print(\"prev pos:\", prev_pos)\n",
    "    print(\"new relative pos:\", new_pos)\n",
    "\n",
    "    prev_pos = new_pos\n",
    "    \n",
    "    arm.set_position(*new_pos, speed=100, mvacc=1000, wait=True)\n",
    "\n"
   ]
  },
  {
   "cell_type": "code",
   "execution_count": 93,
   "metadata": {},
   "outputs": [],
   "source": [
    "code, current_pos = arm.get_position(is_radian=False)"
   ]
  },
  {
   "cell_type": "code",
   "execution_count": 95,
   "metadata": {},
   "outputs": [
    {
     "data": {
      "text/plain": [
       "0"
      ]
     },
     "execution_count": 95,
     "metadata": {},
     "output_type": "execute_result"
    }
   ],
   "source": [
    "arm.set_position(*current_pos, speed=100, mvacc=1000, wait=True)"
   ]
  },
  {
   "cell_type": "code",
   "execution_count": 106,
   "metadata": {},
   "outputs": [
    {
     "data": {
      "text/plain": [
       "0"
      ]
     },
     "execution_count": 106,
     "metadata": {},
     "output_type": "execute_result"
    }
   ],
   "source": [
    "new_pos = [27.202922734561554, 67.9903810567666, -7.289001178492001, -10.574001115377373, -4.199144429757126, -43.223900989167845]\n",
    "arm.set_position(*new_pos, speed=100, mvacc=1000, wait=True, relative=True)"
   ]
  },
  {
   "cell_type": "code",
   "execution_count": 107,
   "metadata": {},
   "outputs": [
    {
     "data": {
      "text/plain": [
       "0"
      ]
     },
     "execution_count": 107,
     "metadata": {},
     "output_type": "execute_result"
    }
   ],
   "source": [
    "x,y,z,rx,ry,rz = new_pos\n",
    "r = R.from_euler('xyz', [rx,ry,rz], degrees=True).as_matrix()\n",
    "transformation0 = np.eye(4)\n",
    "transformation0[:3,:3] = r\n",
    "transformation0[:3,3] = [x,y,z]\n",
    "\n",
    "transformation0 = np.linalg.inv(transformation0)\n",
    "r = R.from_matrix(transformation0[:3,:3]).as_euler('xyz', degrees=True)\n",
    "x,y,z = transformation0[:3,3]\n",
    "new_pos = [x,y,z] + list(r)\n",
    "# new_pos2 = list(-1*np.array(new_pos))\n",
    "arm.set_position(*new_pos, speed=100, mvacc=1000, wait=True, relative=True)"
   ]
  },
  {
   "cell_type": "code",
   "execution_count": 49,
   "metadata": {},
   "outputs": [
    {
     "name": "stdout",
     "output_type": "stream",
     "text": [
      "Current position: [305.518585, 9.993493, 541.88092, -43.414158, -87.419379, -136.354903]\n",
      "New Position: [305.518585, 9.993493, 541.88092, -174.31671173581006, -71.79153639334014, -5.140467676499437]\n"
     ]
    }
   ],
   "source": [
    "code, current_pos = arm.get_position(is_radian=False)\n",
    "print(f\"Current position: {current_pos}\")\n",
    "x,y,z,rx,ry,rz = current_pos\n",
    "transform_base = np.eye(4)\n",
    "transform_base[:3,:3] = R.from_euler('xyz', [rx,ry,rz], degrees=True).as_matrix()\n",
    "transform_base[:3,3] = [x,y,z]\n",
    "\n",
    "transform_end_effector = np.eye(4)\n",
    "transform_end_effector[:3,:3] = R.from_euler('xyz', [0,-20,0], degrees=True).as_matrix()\n",
    "\n",
    "full_transform = transform_base @ transform_end_effector\n",
    "r = R.from_matrix(full_transform[:3,:3]).as_euler('xyz', degrees=True)\n",
    "x,y,z = full_transform[:3,3]\n",
    "\n",
    "new_pos = [x,y,z] + list(r)\n",
    "\n",
    "arm.set_position(*new_pos, speed=100, mvacc=1000, wait=True)\n",
    "print(\"New Position:\", new_pos)"
   ]
  },
  {
   "cell_type": "code",
   "execution_count": 50,
   "metadata": {},
   "outputs": [
    {
     "name": "stdout",
     "output_type": "stream",
     "text": [
      "Current position: [305.518585, 9.993493, 541.88092, -43.414158, -87.419379, -136.354903]\n",
      "Current position: [305.518585, 9.993493, 541.88092, -174.377069, -71.783991, -5.705227]\n"
     ]
    }
   ],
   "source": [
    "code, current_pos = arm.get_position(is_radian=False)\n",
    "print(f\"Current position: {current_pos}\")\n",
    "new_pos = np.zeros(6)\n",
    "new_pos[4] = 20\n",
    "arm.set_position(*list(new_pos), speed=100, mvacc=1000, wait=True, relative=True)\n",
    "code, current_pos = arm.get_position(is_radian=False)\n",
    "print(f\"Current position: {current_pos}\")"
   ]
  },
  {
   "cell_type": "code",
   "execution_count": null,
   "metadata": {},
   "outputs": [],
   "source": [
    "arm.disconnect()"
   ]
  }
 ],
 "metadata": {
  "kernelspec": {
   "display_name": "home_robot",
   "language": "python",
   "name": "python3"
  },
  "language_info": {
   "codemirror_mode": {
    "name": "ipython",
    "version": 3
   },
   "file_extension": ".py",
   "mimetype": "text/x-python",
   "name": "python",
   "nbconvert_exporter": "python",
   "pygments_lexer": "ipython3",
   "version": "3.9.18"
  },
  "orig_nbformat": 4
 },
 "nbformat": 4,
 "nbformat_minor": 2
}
